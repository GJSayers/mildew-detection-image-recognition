{
  "cells": [
    {
      "attachments": {},
      "cell_type": "markdown",
      "metadata": {
        "id": "0aStgWSO0E0E"
      },
      "source": [
        "# **(Data Visualisation)**"
      ]
    },
    {
      "attachments": {},
      "cell_type": "markdown",
      "metadata": {
        "id": "1eLEkw5O0ECa"
      },
      "source": [
        "## Objectives\n",
        "\n",
        "* Answer business requirement 1: Visually differentiate a healthy cherry leaf from one with powdery mildew\n",
        "\n",
        "## Inputs\n",
        "\n",
        "* inputs/cherry-leaves_dataset/cherry-leaves/train\n",
        "* inputs/cherry-leaves_dataset/cherry-leaves/test\n",
        "* inputs/cherry-leaves_dataset/cherry-leaves/validation\n",
        "\n",
        "\n",
        "## Outputs\n",
        "\n",
        "* Image shape embeddings pickle file\n",
        "* Mean and variability of images per label plot\n",
        "* Plot to distinguish between infected and uninfected leaves (infected with powedery mildew)\n",
        "* Generate code that reloves business requirement 1 and can be used to build an image monatge on a streamlit dahsboard.\n",
        "\n",
        "## Additional Comments\n",
        "\n",
        "* In case you have any additional comments that don't fit in the previous bullets, please state them here. \n",
        "\n"
      ]
    },
    {
      "cell_type": "markdown",
      "metadata": {
        "id": "9uWZXH9LwoQg"
      },
      "source": [
        "---"
      ]
    },
    {
      "attachments": {},
      "cell_type": "markdown",
      "metadata": {
        "id": "cqP-UeN-z3i2"
      },
      "source": [
        "# Import libraries"
      ]
    },
    {
      "cell_type": "code",
      "execution_count": null,
      "metadata": {
        "id": "wZfF_j-Bz3i4",
        "outputId": "66943449-1436-4c3d-85c7-b85f9f78349b"
      },
      "outputs": [],
      "source": [
        "import os\n",
        "import pandas as pd\n",
        "import numpy as np\n",
        "import matplotlib.pyplot as plt\n",
        "import seaborn as sns\n",
        "import joblib\n",
        "sns.set_style(\"white\")\n",
        "from matplotlib.image import imread\n"
      ]
    },
    {
      "cell_type": "markdown",
      "metadata": {
        "id": "9MWW8E7lz3i7"
      },
      "source": [
        "We want to make the parent of the current directory the new current directory\n",
        "* os.path.dirname() gets the parent directory\n",
        "* os.chir() defines the new current directory"
      ]
    },
    {
      "cell_type": "code",
      "execution_count": null,
      "metadata": {},
      "outputs": [],
      "source": [
        "cwd= os.getcwd()"
      ]
    },
    {
      "cell_type": "code",
      "execution_count": null,
      "metadata": {
        "id": "TwHsQRWjz3i9",
        "outputId": "86849db3-cd2f-4cc5-ebb8-2d0caafa1a2c"
      },
      "outputs": [],
      "source": [
        "os.chdir('/workspace/mildew-detection-image-recognition')\n",
        "print(\"You set a new current directory\")"
      ]
    },
    {
      "cell_type": "markdown",
      "metadata": {
        "id": "M_xPk_Ijz3i-"
      },
      "source": [
        "Confirm the new current directory"
      ]
    },
    {
      "cell_type": "code",
      "execution_count": null,
      "metadata": {
        "id": "vz3S-_kjz3jA",
        "outputId": "00b79ae4-75d0-4a96-d193-ac9ef9847ea2"
      },
      "outputs": [],
      "source": [
        "current_dir = os.getcwd()\n",
        "current_dir"
      ]
    },
    {
      "attachments": {},
      "cell_type": "markdown",
      "metadata": {
        "id": "-mavJ8DibrcQ"
      },
      "source": [
        "# Set input directories"
      ]
    },
    {
      "attachments": {},
      "cell_type": "markdown",
      "metadata": {},
      "source": [
        "Set train, validation amd test paths:"
      ]
    },
    {
      "cell_type": "code",
      "execution_count": null,
      "metadata": {},
      "outputs": [],
      "source": [
        "my_data_dir = 'inputs/cherry-leaves_dataset/cherry-leaves'\n",
        "train_path = my_data_dir + '/train'\n",
        "val_path = my_data_dir + '/val'\n",
        "test_path = my_data_dir + '/test'"
      ]
    },
    {
      "cell_type": "markdown",
      "metadata": {
        "id": "ZY3l0-AxO93d"
      },
      "source": [
        "---"
      ]
    },
    {
      "attachments": {},
      "cell_type": "markdown",
      "metadata": {
        "id": "uFQo3ycuO-v6"
      },
      "source": [
        "# Set output directories"
      ]
    },
    {
      "cell_type": "code",
      "execution_count": null,
      "metadata": {},
      "outputs": [],
      "source": [
        "version = 'v1'\n",
        "file_path =f'outputs/{version}'\n",
        "\n",
        "if 'outputs' in os.listdir(current_dir) and version in os.listdir(current_dir + '/outputs'):\n",
        "    print('Existing version already available create a new version')\n",
        "    pass\n",
        "else:\n",
        "    os.makedirs(name=file_path)"
      ]
    },
    {
      "attachments": {},
      "cell_type": "markdown",
      "metadata": {},
      "source": [
        "Set label names:"
      ]
    },
    {
      "cell_type": "code",
      "execution_count": null,
      "metadata": {},
      "outputs": [],
      "source": [
        "labels = os.listdir(train_path)\n",
        "print('Label for the images is', labels)"
      ]
    },
    {
      "cell_type": "markdown",
      "metadata": {},
      "source": [
        "---"
      ]
    },
    {
      "attachments": {},
      "cell_type": "markdown",
      "metadata": {},
      "source": [
        "# Data visualisation of image data"
      ]
    },
    {
      "cell_type": "markdown",
      "metadata": {},
      "source": [
        "---"
      ]
    },
    {
      "attachments": {},
      "cell_type": "markdown",
      "metadata": {},
      "source": [
        "## Image shape"
      ]
    },
    {
      "attachments": {},
      "cell_type": "markdown",
      "metadata": {},
      "source": [
        "Compute average image size on train set"
      ]
    },
    {
      "cell_type": "code",
      "execution_count": null,
      "metadata": {},
      "outputs": [],
      "source": [
        "dim1, dim2 = [], []\n",
        "for label in labels:\n",
        "  for image_filename in os.listdir(train_path + '/'+ label):\n",
        "    img = imread(train_path + '/' + label + '/'+ image_filename)\n",
        "    d1, d2, colors = img.shape\n",
        "    dim1.append(d1) # image height\n",
        "    dim2.append(d2) # image width\n",
        "\n",
        "sns.set_style(\"whitegrid\")\n",
        "fig, axes = plt.subplots()\n",
        "sns.scatterplot(x=dim2, y=dim1, alpha=0.2)\n",
        "axes.set_xlabel(\"Width (pixels)\")\n",
        "axes.set_ylabel(\"Height (pixels)\")\n",
        "dim1_mean = int(np.array(dim1).mean())\n",
        "dim2_mean = int(np.array(dim2).mean())\n",
        "axes.axvline(x=dim1_mean,color='r', linestyle='--')\n",
        "axes.axhline(y=dim2_mean,color='r', linestyle='--')\n",
        "plt.show()\n",
        "print(f\"Width average: {dim2_mean} \\nHeight average: {dim1_mean}\")"
      ]
    },
    {
      "attachments": {},
      "cell_type": "markdown",
      "metadata": {},
      "source": [
        "From this we can conclude that the images are in the train data set are all the same size, we'll then go ahead and save this along with the standard RGB in a pickle file. "
      ]
    },
    {
      "cell_type": "code",
      "execution_count": null,
      "metadata": {},
      "outputs": [],
      "source": [
        "image_shape = (dim1_mean, dim2_mean, 3)\n",
        "image_shape"
      ]
    },
    {
      "cell_type": "code",
      "execution_count": null,
      "metadata": {},
      "outputs": [],
      "source": [
        "joblib.dump(value=image_shape,\n",
        "            filename=f\"{file_path}/image_shape.pkl\")"
      ]
    },
    {
      "attachments": {},
      "cell_type": "markdown",
      "metadata": {},
      "source": [
        "## Average variability of images per label"
      ]
    },
    {
      "attachments": {},
      "cell_type": "markdown",
      "metadata": {},
      "source": [
        "Here we decalre a function to load images into an array using tensorflow"
      ]
    },
    {
      "cell_type": "code",
      "execution_count": null,
      "metadata": {},
      "outputs": [],
      "source": [
        "from tensorflow.keras.preprocessing import image\n",
        "\n",
        "def load_image_as_array(my_data_dir, new_size=(50,50), num_imgs_per_label = 20):\n",
        "    x, y = np.array([], dtype='int'), np.array([], dtype='object')\n",
        "    labels = os.listdir(my_data_dir)\n",
        "    \n",
        "    for label in labels:\n",
        "        counter = 0\n",
        "        for image_filename in os.listdir(my_data_dir + '/' + label):\n",
        "            if counter < num_imgs_per_label:\n",
        "                \n",
        "                img = image.load_img(my_data_dir + '/' + label + '/' + image_filename, target_size=new_size)\n",
        "                if image.img_to_array(img).max() > 1:\n",
        "                    img_resize = image.img_to_array(img) / 255\n",
        "                else:\n",
        "                    img_resize = image.img_to_array(img)\n",
        "                    \n",
        "                x = np.append(x, img_resize).reshape(-1, new_size[0], new_size[1], img_resize.shape[2])\n",
        "                y = np.append(y, label)\n",
        "                counter += 1\n",
        "    \n",
        "    return x, y\n"
      ]
    },
    {
      "attachments": {},
      "cell_type": "markdown",
      "metadata": {},
      "source": [
        "Load the image shanpe and labels into the array."
      ]
    },
    {
      "cell_type": "code",
      "execution_count": null,
      "metadata": {},
      "outputs": [],
      "source": [
        "x, y = load_image_as_array(my_data_dir=train_path, new_size=image_shape, num_imgs_per_label=30)\n",
        "print(x.shape, y.shape)"
      ]
    },
    {
      "attachments": {},
      "cell_type": "markdown",
      "metadata": {},
      "source": [
        "Plot and save mean and variability of the images per label using the definitions assigned above."
      ]
    },
    {
      "cell_type": "code",
      "execution_count": null,
      "metadata": {},
      "outputs": [],
      "source": [
        "def plot_mean_var_per_label(x, y, figsize=(12,5), save_image=False):\n",
        "    \n",
        "    # loop through labels\n",
        "    for display_label in np.unique(y):\n",
        "        sns.set_style(\"white\")\n",
        "\n",
        "        # subset an array for the given label\n",
        "        y = y.reshape(-1, 1, 1)\n",
        "        bool_mask = np.any(y==display_label, axis=1).reshape(-1)\n",
        "        arr = x[bool_mask] \n",
        "        \n",
        "        # calculate mean and standard deviation\n",
        "        avg_img = np.mean(arr, axis=0)\n",
        "        std_img = np.std(arr, axis=0)\n",
        "        print(f\"==== Label: {display_label} ====\")\n",
        "        print(f\"==== Image Shape: {avg_img.shape} ====\")\n",
        "        \n",
        "        # create fig displaying mean and variance of images\n",
        "        fig, axes = plt.subplots(nrows=1, ncols=2, figsize=figsize)\n",
        "        axes[0].set_title(f\"Average Image for {display_label}\")\n",
        "        axes[0].imshow(avg_img, cmap='gray')\n",
        "        axes[1].set_title(f\"Variance image for {display_label}\")\n",
        "        axes[1].imshow(std_img, cmap='gray')\n",
        "        \n",
        "        # save the image\n",
        "        if save_image:\n",
        "            plt.savefig(f\"{file_path}ag_var_{display_label}.png\", bbox_inches=\"tight\", dpi=150)\n",
        "        else:\n",
        "            plt.tight_layout()\n",
        "            plt.show()\n",
        "            print(\"\\n\")\n",
        "    \n",
        "    "
      ]
    },
    {
      "cell_type": "code",
      "execution_count": null,
      "metadata": {},
      "outputs": [],
      "source": [
        "plot_mean_var_per_label(x=x, y=y, figsize=(12, 5), save_image=True)"
      ]
    },
    {
      "attachments": {},
      "cell_type": "markdown",
      "metadata": {},
      "source": [
        "## Difference between infected and healthy leaf images"
      ]
    },
    {
      "cell_type": "code",
      "execution_count": null,
      "metadata": {},
      "outputs": [],
      "source": [
        "def subset_img_label(x, y, display_label):\n",
        "    y = y.reshape(-1, 1, 1)\n",
        "    bool_mask = np.any(y==display_label, axis=1).reshape(-1)\n",
        "    df = x[bool_mask]\n",
        "    return df\n",
        "\n",
        "def diff_bet_avg_image_labels_data_as_array(x, y, label_1, label_2, figsize=(20,5), save_image=False):\n",
        "    sns.set_style(\"white\")\n",
        "    \n",
        "    if (label_1 not in np.unique(y)) or (label_2 not in np.unique(y)):\n",
        "        print(f\"Either {label_1} or {label_2} are not in {np.unique(y)}\")\n",
        "        return\n",
        "        \n",
        "    # calculate the mean from labels\n",
        "    # label 1\n",
        "    images_label = subset_img_label(x, y, label_1)\n",
        "    label1_avg = np.mean(images_label, axis=0)\n",
        "    \n",
        "    # label 2\n",
        "    images_label = subset_img_label(x, y, label_2)\n",
        "    label2_avg = np.mean(images_label, axis=0)\n",
        "    \n",
        "    # calculate and plot difference between avg label1 and avg label2\n",
        "    diff_mean = label1_avg - label2_avg\n",
        "    fig, axes = plt.subplots(nrows=1, ncols=3, figsize=figsize)\n",
        "    axes[0].imshow(label1_avg, cmap='gray')\n",
        "    axes[0].set_title(f'Average: {label_1}')\n",
        "    axes[1].imshow(label2_avg, cmap='gray')\n",
        "    axes[1].set_title(f'Average: {label_2}')\n",
        "    axes[2].imshow(diff_mean, cmap='gray')\n",
        "    axes[2].set_title(f'Difference image: Avg {label_1} & {label_2}')\n",
        "    if save_image:\n",
        "        plt.savefig(f\"{file_path}/avg_diff.png\", bbox_inches='tight', dpi=150)\n",
        "    else:\n",
        "        plt.tight_layout()\n",
        "        plt.show()\n",
        "    \n",
        "    \n",
        "    "
      ]
    },
    {
      "cell_type": "code",
      "execution_count": null,
      "metadata": {},
      "outputs": [],
      "source": [
        "diff_bet_avg_image_labels_data_as_array(x=x, y=y, label_1='healthy', label_2='powdery_mildew',\n",
        "                                       figsize=(12,10),\n",
        "                                       save_image=True)\n",
        "                                  "
      ]
    },
    {
      "attachments": {},
      "cell_type": "markdown",
      "metadata": {},
      "source": [
        "## Image Montage "
      ]
    },
    {
      "cell_type": "code",
      "execution_count": null,
      "metadata": {},
      "outputs": [],
      "source": [
        "import itertools\n",
        "import random\n",
        "sns.set_style(\"white\")\n",
        "\n",
        "def image_montage(dir_path, display_label, nrows, ncols, figsize=(15,10)):\n",
        "\n",
        "    labels = os.listdir(dir_path)\n",
        "    \n",
        "    if display_label in labels:\n",
        "        \n",
        "        images_list = os.listdir(dir_path+'/'+display_label)\n",
        "        if nrows * ncols < len(images_list):\n",
        "            img_idx = random.sample(images_list, nrows * ncols)\n",
        "        else: \n",
        "            print(\n",
        "                f\"Decrease nrows or ncols to create your montage. \\n\"\n",
        "                f\"There are {len(images_list)} in your subset. \"\n",
        "                f\"You requested a montage with {nrows * ncols} spaces\")\n",
        "            return\n",
        "        \n",
        "        list_rows = range(0,nrows)\n",
        "        list_cols = range(0,ncols)\n",
        "        plot_idx = list(itertools.product(list_rows, list_cols))\n",
        "        \n",
        "        \n",
        "        fig, axes = plt.subplots(nrows=nrows, ncols=ncols, figsize=figsize)\n",
        "        for i in range(0, nrows*ncols):\n",
        "            img = imread(dir_path + '/' + display_label +'/' + img_idx[i])\n",
        "            img_shape = img.shape\n",
        "            axes[plot_idx[i][0], plot_idx[i][1]].imshow(img)\n",
        "            axes[plot_idx[i][0], plot_idx[i][1]].set_title(f\"Witdth {img_shape[1]}px x Height {img_shape[0]}px\")\n",
        "            axes[plot_idx[i][0], plot_idx[i][1]].set_xticks([])\n",
        "            axes[plot_idx[i][0], plot_idx[i][1]].set_yticks([])\n",
        "        plt.tight_layout()\n",
        "        plt.show()\n",
        "    else:\n",
        "        print(\"The selected label does not exists\")\n",
        "        print(f\"The existing options are: {labels}\")\n",
        "    \n",
        "        "
      ]
    },
    {
      "cell_type": "code",
      "execution_count": null,
      "metadata": {},
      "outputs": [],
      "source": [
        "for label in labels:\n",
        "    print(label)\n",
        "    image_montage(dir_path=train_path,\n",
        "                  display_label=label,\n",
        "                  nrows=3, ncols=3,\n",
        "                  figsize=(10,15)\n",
        "                  )\n",
        "    print(\"\\n\")"
      ]
    }
  ],
  "metadata": {
    "accelerator": "GPU",
    "colab": {
      "name": "Data Practitioner Jupyter Notebook.ipynb",
      "provenance": [],
      "toc_visible": true
    },
    "interpreter": {
      "hash": "8b8334dab9339717f727a1deaf837b322d7a41c20d15cc86be99a8e69ceec8ce"
    },
    "kernelspec": {
      "display_name": "Python 3.8.12 64-bit ('3.8.12': pyenv)",
      "name": "python3"
    },
    "language_info": {
      "codemirror_mode": {
        "name": "ipython",
        "version": 3
      },
      "file_extension": ".py",
      "mimetype": "text/x-python",
      "name": "python",
      "nbconvert_exporter": "python",
      "pygments_lexer": "ipython3",
      "version": "3.8.12"
    },
    "orig_nbformat": 2
  },
  "nbformat": 4,
  "nbformat_minor": 2
}
